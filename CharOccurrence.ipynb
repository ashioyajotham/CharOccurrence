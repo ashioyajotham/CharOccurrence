{
 "cells": [
  {
   "cell_type": "code",
   "execution_count": null,
   "id": "ad4b04f1",
   "metadata": {},
   "outputs": [],
   "source": [
    "# Count character occurrences in a given word, phrase or sentence\n",
    "\n",
    "def charCount(s):\n",
    "    # create an empty dictionary \n",
    "    charLib=dict()\n",
    "    for i in s:\n",
    "        if i not in charLib:\n",
    "            charLib[i]=0\n",
    "        charLib[i]+=1\n",
    "    return charLib\n",
    "\n",
    "#test function\n",
    "occurrences= charCount(\"ASHIOYA LOVES DATA SCIENCE\")\n",
    "occurrences.pop(' ') # to delete space character if it is in dictionary\n",
    "for char,occur in occurrences.items():\n",
    "    print(char+\" contains \"+str(occur)+\" times \")\n"
   ]
  }
 ],
 "metadata": {
  "kernelspec": {
   "display_name": "Python 3",
   "language": "python",
   "name": "python3"
  },
  "language_info": {
   "codemirror_mode": {
    "name": "ipython",
    "version": 3
   },
   "file_extension": ".py",
   "mimetype": "text/x-python",
   "name": "python",
   "nbconvert_exporter": "python",
   "pygments_lexer": "ipython3",
   "version": "3.9.7"
  }
 },
 "nbformat": 4,
 "nbformat_minor": 5
}
